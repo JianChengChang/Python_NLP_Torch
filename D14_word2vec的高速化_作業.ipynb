{
 "cells": [
  {
   "cell_type": "markdown",
   "metadata": {},
   "source": [
    "### 作業目的: 更加了解word2vec高速化\n",
    "本次作業主要是幫同學更熟悉與了解透過各項技巧來加速word2vec的原理，同學可以參考章節講義來回答下列問題。"
   ]
  },
  {
   "cell_type": "markdown",
   "metadata": {},
   "source": [
    "### Q1 - 請問word2vec原本的設計有何問題以及可以怎麼對相對應的問題做改善?\n",
    "\n",
    "\n",
    "Answer:\n",
    "\n",
    "1. 輸入層中，one-hot encode會佔據過多記憶體  \n",
    "2. 字典很龐大時，矩陣運算會需要更多的計算資源與時間，最後的softmax輸出會隨著字典增加運算複雜度上升"
   ]
  },
  {
   "cell_type": "markdown",
   "metadata": {},
   "source": [
    "### Q2 - 請問在Negative Sampling中的次方係數，會如何影響字詞的抽取?\n",
    "Hint: 如何影響高頻詞與低頻詞的抽取機率\n",
    "\n",
    "Answer:\n",
    "1. 當次方縮小時，會使低頻詞被抽到的機率提升"
   ]
  },
  {
   "cell_type": "code",
   "execution_count": 11,
   "metadata": {},
   "outputs": [
    {
     "name": "stdout",
     "output_type": "stream",
     "text": [
      "[0.55555556 0.37037037 0.07407407]\n",
      "[0.51061101 0.37672265 0.11266635]\n",
      "[0.45836973 0.37425731 0.16737296]\n"
     ]
    }
   ],
   "source": [
    "import numpy as np\n",
    "a = [15, 10, 2]\n",
    "denominator1 = np.sum(a)\n",
    "numerator = a\n",
    "\n",
    "numerator2 = np.power(a, 0.75)\n",
    "denominator2 = np.sum(numerator2)\n",
    "\n",
    "numerator3 = np.power(a, 0.5)\n",
    "denominator3 = np.sum(numerator3)\n",
    "\n",
    "print(numerator/denominator1)\n",
    "print(numerator2/denominator2)\n",
    "print(numerator3/denominator3)"
   ]
  }
 ],
 "metadata": {
  "kernelspec": {
   "display_name": "Python 3",
   "language": "python",
   "name": "python3"
  },
  "language_info": {
   "codemirror_mode": {
    "name": "ipython",
    "version": 3
   },
   "file_extension": ".py",
   "mimetype": "text/x-python",
   "name": "python",
   "nbconvert_exporter": "python",
   "pygments_lexer": "ipython3",
   "version": "3.8.3"
  }
 },
 "nbformat": 4,
 "nbformat_minor": 2
}
