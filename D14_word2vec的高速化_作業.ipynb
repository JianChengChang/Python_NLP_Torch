{
 "cells": [
  {
   "cell_type": "markdown",
   "metadata": {},
   "source": [
    "### 作業目的: 更加了解word2vec高速化\n",
    "本次作業主要是幫同學更熟悉與了解透過各項技巧來加速word2vec的原理，同學可以參考章節講義來回答下列問題。"
   ]
  },
  {
   "cell_type": "markdown",
   "metadata": {},
   "source": [
    "### Q1 - 請問word2vec原本的設計有何問題以及可以怎麼對相對應的問題做改善?\n",
    "\n",
    "\n",
    "Answer:\n",
    "\n",
    "1. 輸入層中，one-hot encode會佔據過多記憶體  \n",
    "2. 字典很龐大時，矩陣運算會需要更多的計算資源與時間，最後的softmax輸出會隨著字典增加運算複雜度上升"
   ]
  },
  {
   "cell_type": "markdown",
   "metadata": {},
   "source": [
    "### Q2 - 請問在Negative Sampling中的次方係數，會如何影響字詞的抽取?\n",
    "Hint: 如何影響高頻詞與低頻詞的抽取機率\n",
    "\n",
    "Answer:\n",
    "1. 當次方縮小時，會使低頻詞被抽到的機率提升"
   ]
  },
  {
   "cell_type": "code",
   "execution_count": 2,
   "metadata": {},
   "outputs": [
    {
     "name": "stdout",
     "output_type": "stream",
     "text": [
      "[0.55555556 0.37037037 0.07407407]\n",
      "[0.28229597 0.20827456 0.06228862]\n",
      "[0.14344383 0.11712139 0.05237828]\n"
     ]
    }
   ],
   "source": [
    "import numpy as np\n",
    "a = [15, 10, 2]\n",
    "denominator = np.sum(a)\n",
    "numerator = a\n",
    "numerator2 = np.power(a, 0.75)\n",
    "numerator3 = np.power(a, 0.5)\n",
    "print(numerator/denominator)\n",
    "print(numerator2/denominator)\n",
    "print(numerator3/denominator)"
   ]
  }
 ],
 "metadata": {
  "kernelspec": {
   "display_name": "Python 3",
   "language": "python",
   "name": "python3"
  },
  "language_info": {
   "codemirror_mode": {
    "name": "ipython",
    "version": 3
   },
   "file_extension": ".py",
   "mimetype": "text/x-python",
   "name": "python",
   "nbconvert_exporter": "python",
   "pygments_lexer": "ipython3",
   "version": "3.8.3"
  }
 },
 "nbformat": 4,
 "nbformat_minor": 2
}
