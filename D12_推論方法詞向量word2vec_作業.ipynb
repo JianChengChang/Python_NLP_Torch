{
 "cells": [
  {
   "cell_type": "markdown",
   "metadata": {},
   "source": [
    "### 作業目的: 了解為何需要推論方法的詞向量及其優缺點\n",
    "本次作業主要為思考題，請學員根據題目思考適合的回答"
   ]
  },
  {
   "cell_type": "markdown",
   "metadata": {},
   "source": [
    "### Question:\n",
    "本次課程學習了word2vec中的兩個模型CBOW與Skip-gram，請學員思考與比較此兩種模型的優缺點?"
   ]
  },
  {
   "cell_type": "markdown",
   "metadata": {},
   "source": [
    "### Answer:\n",
    "\n",
    "* **CBOW**:\n",
    "\n",
    "優點：將上下文餵入模型，訓練速度快效率高  \n",
    "缺點：出現較少的罕見字詞效果差\n",
    "\n",
    "* **Skip-gram**:\n",
    "\n",
    "優點：對於每個中心詞都有 window size*2 的詞作輸出，能有效學習文字訊息，對罕見字詞效果處理好  \n",
    "缺點：訓練時間長\n"
   ]
  },
  {
   "cell_type": "code",
   "execution_count": null,
   "metadata": {},
   "outputs": [],
   "source": []
  }
 ],
 "metadata": {
  "kernelspec": {
   "display_name": "Python 3",
   "language": "python",
   "name": "python3"
  },
  "language_info": {
   "codemirror_mode": {
    "name": "ipython",
    "version": 3
   },
   "file_extension": ".py",
   "mimetype": "text/x-python",
   "name": "python",
   "nbconvert_exporter": "python",
   "pygments_lexer": "ipython3",
   "version": "3.8.3"
  }
 },
 "nbformat": 4,
 "nbformat_minor": 2
}
