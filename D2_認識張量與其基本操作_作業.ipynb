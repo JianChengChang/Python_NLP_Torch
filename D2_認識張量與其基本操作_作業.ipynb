{
 "cells": [
  {
   "cell_type": "markdown",
   "metadata": {},
   "source": [
    "### 作業目的: 更加熟習pytorch的tensor操作\n",
    "\n",
    "pytorch中有提供很多的API，讓使用者針對tensor進行各式各樣的操作，本次的作業希望讀者由pytorch的[官方網站](https://pytorch.org/docs/stable/torch.html)中選定四個針對tensor操作的API，對他的使用方法進行範例操作演練。"
   ]
  },
  {
   "cell_type": "markdown",
   "metadata": {},
   "source": [
    "### 選定的API 函數\n",
    "\n",
    "**請寫下選定的API functions**\n",
    "\n",
    "ex:\n",
    "* torch.from_array() / tensor.numpy()\n",
    "* torch.unsqueeze() / torch.squeeze()\n",
    "* tensor.transpose() / tensor.permute()\n",
    "* torch.reshape() / tensor.view()"
   ]
  },
  {
   "cell_type": "code",
   "execution_count": 2,
   "metadata": {},
   "outputs": [],
   "source": [
    "# Import torch and other required modules\n",
    "import torch\n",
    "import numpy as np"
   ]
  },
  {
   "cell_type": "markdown",
   "metadata": {},
   "source": [
    "### 範例:\n",
    "### Function 1 - torch.from_array() / tensor.numpy()"
   ]
  },
  {
   "cell_type": "code",
   "execution_count": 3,
   "metadata": {},
   "outputs": [
    {
     "name": "stdout",
     "output_type": "stream",
     "text": [
      "a: <class 'numpy.ndarray'>, float64\n",
      "b: <class 'torch.Tensor'>, torch.float64\n",
      "c: <class 'torch.Tensor'>, torch.float64\n",
      "d: <class 'numpy.ndarray'>, float64\n"
     ]
    }
   ],
   "source": [
    "# Example 1 - 將torch tensor與numpy ndarray互相轉換\n",
    "a = np.random.rand(1,2,3,3)\n",
    "print(f'a: {type(a)}, {a.dtype}')\n",
    "b = torch.from_numpy(a)\n",
    "print(f'b: {type(b)}, {b.dtype}')\n",
    "c = torch.tensor(a)\n",
    "print(f'c: {type(c)}, {c.dtype}')\n",
    "d = c.numpy()\n",
    "print(f'd: {type(d)}, {d.dtype}')"
   ]
  },
  {
   "cell_type": "code",
   "execution_count": 4,
   "metadata": {},
   "outputs": [
    {
     "name": "stdout",
     "output_type": "stream",
     "text": [
      "a: <class 'numpy.ndarray'>, int64\n",
      "b: <class 'torch.Tensor'>, torch.int64\n",
      "c: <class 'torch.Tensor'>, torch.int64\n",
      "d: <class 'numpy.ndarray'>, int64\n"
     ]
    }
   ],
   "source": [
    "# Example 2 - 經過轉換後，torch tensor與numpy array依然有相近的資料型態\n",
    "a = np.random.randint(low=0, high=10, size=(2,2))\n",
    "print(f'a: {type(a)}, {a.dtype}')\n",
    "b = torch.from_numpy(a)\n",
    "print(f'b: {type(b)}, {b.dtype}')\n",
    "c = torch.tensor(a)\n",
    "print(f'c: {type(c)}, {c.dtype}')\n",
    "d = c.numpy()\n",
    "print(f'd: {type(d)}, {d.dtype}')"
   ]
  },
  {
   "cell_type": "markdown",
   "metadata": {},
   "source": [
    "### Function 1 - torch.from_numpy() / tensor.numpy()/linspace()/logspace()"
   ]
  },
  {
   "cell_type": "code",
   "execution_count": 8,
   "metadata": {},
   "outputs": [
    {
     "name": "stdout",
     "output_type": "stream",
     "text": [
      "a:  <class 'numpy.ndarray'> int32\n",
      "t1:  <class 'torch.Tensor'> torch.int32\n",
      "t2:  <class 'torch.Tensor'> torch.int32\n",
      "b:  <class 'torch.Tensor'> torch.int32\n"
     ]
    }
   ],
   "source": [
    "# Example 1 - 練習Numpy,torch.tensor互轉\n",
    "### your code ###\n",
    "a = np.array([1,2,3])\n",
    "t1 = torch.from_numpy(a)\n",
    "t2 = torch.tensor(a)\n",
    "b = t2.numpy()\n",
    "print(\"a: \",type(a),a.dtype)\n",
    "print(\"t1: \",type(t),t.dtype)\n",
    "print(\"t2: \",type(t),t.dtype)\n",
    "print(\"b: \",type(t),t.dtype)"
   ]
  },
  {
   "cell_type": "code",
   "execution_count": 15,
   "metadata": {},
   "outputs": [
    {
     "name": "stdout",
     "output_type": "stream",
     "text": [
      "tensor([ 3.0000,  4.7500,  6.5000,  8.2500, 10.0000])\n",
      "tensor([-10.,  -5.,   0.,   5.,  10.])\n",
      "tensor([1.0000e-10, 1.0000e-05, 1.0000e+00, 1.0000e+05, 1.0000e+10])\n",
      "tensor([9.7656e-04, 3.1250e-02, 1.0000e+00, 3.2000e+01, 1.0240e+03])\n",
      "tensor([ 1.2589,  2.1135,  3.5481,  5.9566, 10.0000])\n"
     ]
    }
   ],
   "source": [
    "# Example 2 - 練習linspace,logspace\n",
    "### your code ###\n",
    "print(torch.linspace(3,10,steps=5))\n",
    "print(torch.linspace(-10,10,steps=5))\n",
    "print(torch.logspace(-10,10,steps=5))\n",
    "print(torch.logspace(-10,10,steps=5,base=2))\n",
    "print(torch.logspace(0.1,1,steps=5))"
   ]
  },
  {
   "cell_type": "markdown",
   "metadata": {},
   "source": [
    "### Function 2 - torch.unsqueeze() / torch.squeeze()"
   ]
  },
  {
   "cell_type": "code",
   "execution_count": 26,
   "metadata": {},
   "outputs": [
    {
     "name": "stdout",
     "output_type": "stream",
     "text": [
      "tensor([[[1, 2, 3],\n",
      "         [3, 4, 5]],\n",
      "\n",
      "        [[5, 6, 7],\n",
      "         [7, 8, 9]]])\n",
      "torch.Size([2, 2, 3])\n",
      "tensor([[[[1, 2, 3],\n",
      "          [3, 4, 5]],\n",
      "\n",
      "         [[5, 6, 7],\n",
      "          [7, 8, 9]]]])\n",
      "torch.Size([1, 2, 2, 3])\n"
     ]
    }
   ],
   "source": [
    "# Example 1 - 練習unsqueeze，在給定的位置增加維度\n",
    "### your code ###\n",
    "a = torch.tensor([[[1, 2, 3], [3, 4, 5]],[[5, 6, 7], [7, 8, 9]]])\n",
    "print(a)\n",
    "print(a.shape)\n",
    "\n",
    "b = torch.unsqueeze(a,dim=0)\n",
    "print(b)\n",
    "print(b.shape)"
   ]
  },
  {
   "cell_type": "code",
   "execution_count": 34,
   "metadata": {},
   "outputs": [
    {
     "name": "stdout",
     "output_type": "stream",
     "text": [
      "torch.Size([1, 2, 2, 3])\n",
      "torch.Size([2, 2, 3])\n",
      "torch.Size([1, 2, 2, 3])\n",
      "torch.Size([2, 2, 3])\n"
     ]
    }
   ],
   "source": [
    "# Example 2 - 練習squeeze\n",
    "### your code ###\n",
    "print(b.size())\n",
    "c = torch.squeeze(b,0)\n",
    "print(c.size())\n",
    "d = torch.squeeze(b,1)\n",
    "print(d.size())\n",
    "e = torch.squeeze(b)\n",
    "print(e.size())"
   ]
  },
  {
   "cell_type": "markdown",
   "metadata": {},
   "source": [
    "### Function 3 - tensor.randn()/tensor.transpose() / tensor.permute()"
   ]
  },
  {
   "cell_type": "code",
   "execution_count": 13,
   "metadata": {},
   "outputs": [
    {
     "name": "stdout",
     "output_type": "stream",
     "text": [
      "tensor([[0.5834, 0.0666],\n",
      "        [1.9842, 0.9965],\n",
      "        [0.0402, 1.1482]])\n",
      "\n",
      "torch.Size([2, 2, 3])\n",
      "torch.Size([2, 3, 2])\n",
      "\n",
      "tensor([[[1, 3],\n",
      "         [2, 4],\n",
      "         [3, 5]],\n",
      "\n",
      "        [[5, 7],\n",
      "         [6, 8],\n",
      "         [7, 9]]])\n"
     ]
    }
   ],
   "source": [
    "# Example 1 - Transpose 維度對調\n",
    "### your code ###\n",
    "\n",
    "x = torch.randn(2,3) #產生2維，每維3元素的 2 * 3 矩陣\n",
    "print(torch.transpose(x,0,1)) # 將第0維和第1維對調 變成 3 * 2的矩陣\n",
    "\n",
    "y = torch.tensor([[[1, 2, 3], [3, 4, 5]],[[5, 6, 7], [7, 8, 9]]]) #產生一個 2*2*3矩陣\n",
    "print()\n",
    "print(y.shape)\n",
    "print(torch.transpose(y,1,2).shape) #第一維與第二維對調 變成 2*3*2矩陣\n",
    "print()\n",
    "print(torch.transpose(y,1,2))"
   ]
  },
  {
   "cell_type": "code",
   "execution_count": 17,
   "metadata": {},
   "outputs": [
    {
     "name": "stdout",
     "output_type": "stream",
     "text": [
      "torch.Size([2, 3, 5]) \n",
      "\n",
      "torch.Size([5, 2, 3])\n"
     ]
    }
   ],
   "source": [
    "# Example 2 - permute給定維度輸出順序\n",
    "### your code ###\n",
    "x = torch.randn(2,3,5)\n",
    "print(x.shape,\"\\n\")\n",
    "print(x.permute(2,0,1).shape)"
   ]
  },
  {
   "cell_type": "markdown",
   "metadata": {},
   "source": [
    "### Function 4 - torch.reshape() / tensor.view()"
   ]
  },
  {
   "cell_type": "code",
   "execution_count": 22,
   "metadata": {},
   "outputs": [
    {
     "name": "stdout",
     "output_type": "stream",
     "text": [
      "tensor([[1, 2],\n",
      "        [3, 3],\n",
      "        [4, 5],\n",
      "        [5, 6],\n",
      "        [7, 7],\n",
      "        [8, 9]]) \n",
      "\n",
      "tensor([[1, 2, 3],\n",
      "        [3, 4, 5],\n",
      "        [5, 6, 7],\n",
      "        [7, 8, 9]]) \n",
      "\n"
     ]
    }
   ],
   "source": [
    "# Example 1 - reshape 與 view 皆可以用來改變 tensor 的形狀\n",
    "### your code ###\n",
    "a = torch.tensor([[[1, 2, 3], [3, 4, 5]],\n",
    "\t\t\t\t [[5, 6, 7], [7, 8, 9]]])\n",
    "b = a.reshape(6,2)\n",
    "print(b,\"\\n\")\n",
    "c = a.reshape(4,-1) #填寫-1會自動計算應該要有的維度\n",
    "print(c,\"\\n\")"
   ]
  },
  {
   "cell_type": "code",
   "execution_count": 23,
   "metadata": {},
   "outputs": [
    {
     "name": "stdout",
     "output_type": "stream",
     "text": [
      "tensor([[1, 2, 3, 3, 4, 5],\n",
      "        [5, 6, 7, 7, 8, 9]])\n"
     ]
    }
   ],
   "source": [
    "# Example 2 - ### your explanation ###\n",
    "### your code ###\n",
    "e = a.view(2,6)\n",
    "print(e)"
   ]
  },
  {
   "cell_type": "code",
   "execution_count": null,
   "metadata": {},
   "outputs": [],
   "source": []
  }
 ],
 "metadata": {
  "kernelspec": {
   "display_name": "Python 3",
   "language": "python",
   "name": "python3"
  },
  "language_info": {
   "codemirror_mode": {
    "name": "ipython",
    "version": 3
   },
   "file_extension": ".py",
   "mimetype": "text/x-python",
   "name": "python",
   "nbconvert_exporter": "python",
   "pygments_lexer": "ipython3",
   "version": "3.8.3"
  }
 },
 "nbformat": 4,
 "nbformat_minor": 2
}
